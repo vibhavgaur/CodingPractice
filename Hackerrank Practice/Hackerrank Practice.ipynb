{
 "cells": [
  {
   "cell_type": "code",
   "execution_count": 34,
   "id": "301db3a0-51fa-414f-b67d-b7375d1b6e9a",
   "metadata": {},
   "outputs": [],
   "source": [
    "def hourglassSum(arr):\n",
    "    r1 = [1,1,1]\n",
    "    r2 = [0,1,0]\n",
    "    r3 = [1,1,1]\n",
    "    for i in range(16):\n",
    "        "
   ]
  },
  {
   "cell_type": "code",
   "execution_count": 35,
   "id": "1935f001-f1ea-4cd1-b866-8f990765562c",
   "metadata": {},
   "outputs": [
    {
     "name": "stdout",
     "output_type": "stream",
     "text": [
      "[[1, 1, 1, 0, 0, 0], [0, 1, 0, 0, 0, 0], [1, 1, 1, 0, 0, 0], [0, 0, 2, 4, 4, 0], [0, 0, 0, 2, 0, 0], [0, 0, 1, 2, 4, 0]]\n",
      "-----------------Code output-----------------\n",
      "None\n"
     ]
    }
   ],
   "source": [
    "with open(\"input.txt\") as file:\n",
    "    arr = []\n",
    "    for _ in range(6):\n",
    "        arr.append(list(map(int, file.readline().strip().split())))\n",
    "print(arr)\n",
    "print(\"-----------------Code output-----------------\")\n",
    "\n",
    "print(hourglassSum(arr))"
   ]
  }
 ],
 "metadata": {
  "kernelspec": {
   "display_name": "Python 3",
   "language": "python",
   "name": "python3"
  },
  "language_info": {
   "codemirror_mode": {
    "name": "ipython",
    "version": 3
   },
   "file_extension": ".py",
   "mimetype": "text/x-python",
   "name": "python",
   "nbconvert_exporter": "python",
   "pygments_lexer": "ipython3",
   "version": "3.9.1"
  }
 },
 "nbformat": 4,
 "nbformat_minor": 5
}

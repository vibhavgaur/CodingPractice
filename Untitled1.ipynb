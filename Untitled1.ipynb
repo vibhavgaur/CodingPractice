{
 "cells": [
  {
   "cell_type": "code",
   "execution_count": 1,
   "id": "20a56500-8680-468c-965f-d2dc07a8c515",
   "metadata": {},
   "outputs": [],
   "source": [
    "def chooseFlask(requirements, flaskTypes, markings, verbose):\n",
    "    waste, perTypeLosses = [], []\n",
    "    verboseprint = print if verbose else lambda *a, **k: None\n",
    "    \n",
    "    # for each flask type\n",
    "    for ftype in range(flaskTypes):\n",
    "        verboseprint(\"\\n----- Flask type \", ftype, \"-----\")\n",
    "        # get the capacities\n",
    "        caps = [capacity for fnum, capacity in markings if fnum == ftype]\n",
    "\n",
    "        # for each requirement\n",
    "        for req in requirements:\n",
    "            verboseprint(\"Capacity: \", caps, \", Req: \", req)\n",
    "            # calculate the extra -- (capacity - req) for each flask in type ftype\n",
    "            loss = [cap - req for cap in caps]\n",
    "            # find the smallest positive extra val, and append that to the waste for this flask type\n",
    "            if len([l for l in loss if l >= 0]):\n",
    "                # if the flask type can satisfy this order, add the flask type and waste value\n",
    "                waste.append([ftype, min([l for l in loss if l >= 0])])\n",
    "                verboseprint(\"Waste: \", waste)\n",
    "            else:\n",
    "                # if the flask type cannot satisfy this order, then remove the flask type from the waste list\n",
    "                waste = [item for item in waste if item[0] != ftype]\n",
    "                verboseprint(\"Waste removed: \", waste)\n",
    "                break\n",
    "\n",
    "    print(\"Final waste calculations: \", waste)\n",
    "    validFlasks = [ftype for ftype in list(set(item[0] for item in waste))]\n",
    "    print(\"Valid Flasks: \", validFlasks)\n",
    "    perTypeLosses = [[ftype, sum([item[1] for item in waste if item[0] == ftype])] for ftype in validFlasks]\n",
    "    print(\"Per Type Losses: \", perTypeLosses)\n",
    "    idx = [loss for fnum, loss in perTypeLosses].index(min([loss for fnum, loss in perTypeLosses]))\n",
    "    return perTypeLosses[idx][0]"
   ]
  },
  {
   "cell_type": "code",
   "execution_count": 2,
   "id": "2568e8ad-674a-41d7-ba60-231c70ead270",
   "metadata": {},
   "outputs": [],
   "source": [
    "requirements, flaskTypes, markings = [], [], []\n",
    "with open('input.txt','r') as file:\n",
    "    numRequirements = int(file.readline().strip())\n",
    "    for _ in range(numRequirements):\n",
    "        requirements.append(int(file.readline().strip()))\n",
    "    \n",
    "    flaskTypes = int(file.readline().strip())\n",
    "    \n",
    "    totalMarks = int(file.readline().strip())\n",
    "    markings_colsize = int(file.readline().strip())\n",
    "    for _ in range(totalMarks-1):\n",
    "        marking = file.readline().strip()\n",
    "        marking = list(map(int, marking.rsplit(\" \")))\n",
    "        markings.append(marking)"
   ]
  },
  {
   "cell_type": "code",
   "execution_count": 3,
   "id": "26a96dd6-1a84-4c11-8b92-535e6891de41",
   "metadata": {},
   "outputs": [
    {
     "name": "stdout",
     "output_type": "stream",
     "text": [
      "\n",
      "----- Flask type  0 -----\n",
      "Capacity:  [55] , Req:  96\n",
      "Waste removed:  []\n",
      "\n",
      "----- Flask type  1 -----\n",
      "Capacity:  [1, 3, 4, 46] , Req:  96\n",
      "Waste removed:  []\n",
      "\n",
      "----- Flask type  2 -----\n",
      "Capacity:  [1, 1, 42, 42, 81] , Req:  96\n",
      "Waste removed:  []\n",
      "\n",
      "----- Flask type  3 -----\n",
      "Capacity:  [13, 15, 36] , Req:  96\n",
      "Waste removed:  []\n",
      "\n",
      "----- Flask type  4 -----\n",
      "Capacity:  [1, 1, 9, 11] , Req:  96\n",
      "Waste removed:  []\n",
      "Final waste calculations:  []\n",
      "Valid Flasks:  []\n",
      "Per Type Losses:  []\n"
     ]
    },
    {
     "ename": "ValueError",
     "evalue": "min() arg is an empty sequence",
     "output_type": "error",
     "traceback": [
      "\u001b[0;31m---------------------------------------------------------------------------\u001b[0m",
      "\u001b[0;31mValueError\u001b[0m                                Traceback (most recent call last)",
      "\u001b[0;32m/tmp/ipykernel_45667/1085118375.py\u001b[0m in \u001b[0;36m<module>\u001b[0;34m\u001b[0m\n\u001b[0;32m----> 1\u001b[0;31m \u001b[0mprint\u001b[0m\u001b[0;34m(\u001b[0m\u001b[0mchooseFlask\u001b[0m\u001b[0;34m(\u001b[0m\u001b[0mrequirements\u001b[0m\u001b[0;34m,\u001b[0m \u001b[0mflaskTypes\u001b[0m\u001b[0;34m,\u001b[0m \u001b[0mmarkings\u001b[0m\u001b[0;34m,\u001b[0m \u001b[0mverbose\u001b[0m\u001b[0;34m=\u001b[0m\u001b[0;32mTrue\u001b[0m\u001b[0;34m)\u001b[0m\u001b[0;34m)\u001b[0m\u001b[0;34m\u001b[0m\u001b[0;34m\u001b[0m\u001b[0m\n\u001b[0m",
      "\u001b[0;32m/tmp/ipykernel_45667/2154334867.py\u001b[0m in \u001b[0;36mchooseFlask\u001b[0;34m(requirements, flaskTypes, markings, verbose)\u001b[0m\n\u001b[1;32m     30\u001b[0m     \u001b[0mperTypeLosses\u001b[0m \u001b[0;34m=\u001b[0m \u001b[0;34m[\u001b[0m\u001b[0;34m[\u001b[0m\u001b[0mftype\u001b[0m\u001b[0;34m,\u001b[0m \u001b[0msum\u001b[0m\u001b[0;34m(\u001b[0m\u001b[0;34m[\u001b[0m\u001b[0mitem\u001b[0m\u001b[0;34m[\u001b[0m\u001b[0;36m1\u001b[0m\u001b[0;34m]\u001b[0m \u001b[0;32mfor\u001b[0m \u001b[0mitem\u001b[0m \u001b[0;32min\u001b[0m \u001b[0mwaste\u001b[0m \u001b[0;32mif\u001b[0m \u001b[0mitem\u001b[0m\u001b[0;34m[\u001b[0m\u001b[0;36m0\u001b[0m\u001b[0;34m]\u001b[0m \u001b[0;34m==\u001b[0m \u001b[0mftype\u001b[0m\u001b[0;34m]\u001b[0m\u001b[0;34m)\u001b[0m\u001b[0;34m]\u001b[0m \u001b[0;32mfor\u001b[0m \u001b[0mftype\u001b[0m \u001b[0;32min\u001b[0m \u001b[0mvalidFlasks\u001b[0m\u001b[0;34m]\u001b[0m\u001b[0;34m\u001b[0m\u001b[0;34m\u001b[0m\u001b[0m\n\u001b[1;32m     31\u001b[0m     \u001b[0mprint\u001b[0m\u001b[0;34m(\u001b[0m\u001b[0;34m\"Per Type Losses: \"\u001b[0m\u001b[0;34m,\u001b[0m \u001b[0mperTypeLosses\u001b[0m\u001b[0;34m)\u001b[0m\u001b[0;34m\u001b[0m\u001b[0;34m\u001b[0m\u001b[0m\n\u001b[0;32m---> 32\u001b[0;31m     \u001b[0midx\u001b[0m \u001b[0;34m=\u001b[0m \u001b[0;34m[\u001b[0m\u001b[0mloss\u001b[0m \u001b[0;32mfor\u001b[0m \u001b[0mfnum\u001b[0m\u001b[0;34m,\u001b[0m \u001b[0mloss\u001b[0m \u001b[0;32min\u001b[0m \u001b[0mperTypeLosses\u001b[0m\u001b[0;34m]\u001b[0m\u001b[0;34m.\u001b[0m\u001b[0mindex\u001b[0m\u001b[0;34m(\u001b[0m\u001b[0mmin\u001b[0m\u001b[0;34m(\u001b[0m\u001b[0;34m[\u001b[0m\u001b[0mloss\u001b[0m \u001b[0;32mfor\u001b[0m \u001b[0mfnum\u001b[0m\u001b[0;34m,\u001b[0m \u001b[0mloss\u001b[0m \u001b[0;32min\u001b[0m \u001b[0mperTypeLosses\u001b[0m\u001b[0;34m]\u001b[0m\u001b[0;34m)\u001b[0m\u001b[0;34m)\u001b[0m\u001b[0;34m\u001b[0m\u001b[0;34m\u001b[0m\u001b[0m\n\u001b[0m\u001b[1;32m     33\u001b[0m     \u001b[0;32mreturn\u001b[0m \u001b[0mperTypeLosses\u001b[0m\u001b[0;34m[\u001b[0m\u001b[0midx\u001b[0m\u001b[0;34m]\u001b[0m\u001b[0;34m[\u001b[0m\u001b[0;36m0\u001b[0m\u001b[0;34m]\u001b[0m\u001b[0;34m\u001b[0m\u001b[0;34m\u001b[0m\u001b[0m\n",
      "\u001b[0;31mValueError\u001b[0m: min() arg is an empty sequence"
     ]
    }
   ],
   "source": [
    "print(chooseFlask(requirements, flaskTypes, markings, verbose=True))"
   ]
  }
 ],
 "metadata": {
  "kernelspec": {
   "display_name": "Python 3 (ipykernel)",
   "language": "python",
   "name": "python3"
  },
  "language_info": {
   "codemirror_mode": {
    "name": "ipython",
    "version": 3
   },
   "file_extension": ".py",
   "mimetype": "text/x-python",
   "name": "python",
   "nbconvert_exporter": "python",
   "pygments_lexer": "ipython3",
   "version": "3.8.5"
  }
 },
 "nbformat": 4,
 "nbformat_minor": 5
}

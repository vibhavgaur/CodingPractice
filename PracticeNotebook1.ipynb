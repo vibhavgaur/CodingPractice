{
 "cells": [
  {
   "cell_type": "code",
   "execution_count": 21,
   "id": "73d70df4-25a1-4aa2-b8e5-5ebae443733d",
   "metadata": {},
   "outputs": [],
   "source": [
    "def countAnagramPhrases(words, phrases):\n",
    "    def cmpr(str1, str2):\n",
    "        from collections import defaultdict\n",
    "        if len(str1) != len(str2):\n",
    "            return False\n",
    "        dd = defaultdict(int)\n",
    "        for c in str1:\n",
    "            dd[c] += 1\n",
    "        for c in str2:\n",
    "            dd[c] -= 1\n",
    "        return True if sum(dd.values()) == 0 else False\n",
    "        \n",
    "    # for each word in words\n",
    "    # calculate the ascii value for the word and add it as a tuple to the words list\n",
    "    words = [[word, sum([ord(c) for c in word])] for word in words]\n",
    "    print(words)\n",
    "    \n",
    "    ret = []\n",
    "    for phrase in phrases:\n",
    "        psplit = phrase.split()\n",
    "        psplit = [[word, sum([ord(c) for c in word])] for word in psplit]\n",
    "        print(\"Phrase split: \",psplit)\n",
    "        # find a word in the words list that has the same ascii score but is not the same word\n",
    "        retval = 1\n",
    "        for pword in psplit:\n",
    "#             xx = [word for word in words if (word[1] == pword[1]) and (word[0] != pword[0])]\n",
    "#             xx = [word for word in words if (word[1] == pword[1]) and (word[0] != pword[0]) and (len(word[0]) == len(pword[0]) and sorted(word[0]) == sorted(pword[0]))]\n",
    "            xx = [word for word in words if (word[1] == pword[1]) and (word[0] != pword[0]) and cmpr(word[0], pword[0])]\n",
    "            print(\"XX: \",xx)\n",
    "#             yy = [w for w in xx]\n",
    "            retval = retval * (len([word for word in words if (word[1] == pword[1]) and (word[0] != pword[0]) and (len(word[0]) == len(pword[0]) and sorted(word[0]) == sorted(pword[0]))]) + 1)\n",
    "            print(retval)\n",
    "        ret.append(retval)\n",
    "    return ret"
   ]
  },
  {
   "cell_type": "code",
   "execution_count": 22,
   "id": "bba08b6f-6881-4de7-ba91-f91bd6d063af",
   "metadata": {},
   "outputs": [
    {
     "name": "stdout",
     "output_type": "stream",
     "text": [
      "Words:  ['date', 'tead', 'seed', 'dees', 'west', 'stew', 'tado', 'toad', 'said', 'aids', 'in', 'the', 'bate', 'tabe', 'coast'] \n",
      "Phrases:  ['date seed west', 'stew the in', 'coast in west', 'dees west bate', 'said date tead']\n",
      "[['date', 414], ['tead', 414], ['seed', 417], ['dees', 417], ['west', 451], ['stew', 451], ['tado', 424], ['toad', 424], ['said', 417], ['aids', 417], ['in', 215], ['the', 321], ['bate', 412], ['tabe', 412], ['coast', 538]]\n",
      "Phrase split:  [['date', 414], ['seed', 417], ['west', 451]]\n",
      "XX:  [['tead', 414]]\n",
      "2\n",
      "XX:  [['dees', 417], ['said', 417], ['aids', 417]]\n",
      "4\n",
      "XX:  [['stew', 451]]\n",
      "8\n",
      "Phrase split:  [['stew', 451], ['the', 321], ['in', 215]]\n",
      "XX:  [['west', 451]]\n",
      "2\n",
      "XX:  []\n",
      "2\n",
      "XX:  []\n",
      "2\n",
      "Phrase split:  [['coast', 538], ['in', 215], ['west', 451]]\n",
      "XX:  []\n",
      "1\n",
      "XX:  []\n",
      "1\n",
      "XX:  [['stew', 451]]\n",
      "2\n",
      "Phrase split:  [['dees', 417], ['west', 451], ['bate', 412]]\n",
      "XX:  [['seed', 417], ['said', 417], ['aids', 417]]\n",
      "2\n",
      "XX:  [['stew', 451]]\n",
      "4\n",
      "XX:  [['tabe', 412]]\n",
      "8\n",
      "Phrase split:  [['said', 417], ['date', 414], ['tead', 414]]\n",
      "XX:  [['seed', 417], ['dees', 417], ['aids', 417]]\n",
      "2\n",
      "XX:  [['tead', 414]]\n",
      "4\n",
      "XX:  [['date', 414]]\n",
      "8\n",
      "[8, 2, 2, 8, 8]\n"
     ]
    }
   ],
   "source": [
    "# reading the inputs to the function\n",
    "words, phrases = [], []\n",
    "with open(\"input.txt\",'r') as file:\n",
    "    nWords = int(file.readline().strip())\n",
    "    for _ in range(nWords):\n",
    "        words.append(file.readline().strip())\n",
    "    nPhrases = int(file.readline().strip())\n",
    "    for _ in range(nPhrases):\n",
    "        phrases.append(file.readline().strip())\n",
    "\n",
    "print(\"Words: \", words,\"\\nPhrases: \", phrases)\n",
    "\n",
    "print(countAnagramPhrases(words, phrases))"
   ]
  },
  {
   "cell_type": "code",
   "execution_count": 18,
   "id": "61ed8b3d-f2b7-4b72-aa8a-d813c52a6d78",
   "metadata": {},
   "outputs": [
    {
     "name": "stdout",
     "output_type": "stream",
     "text": [
      "1\n",
      "1\n"
     ]
    }
   ],
   "source": [
    "str1 = \"seedr\"\n",
    "str2 = \"dees\"\n",
    "from collections import defaultdict\n",
    "dd = defaultdict(int)\n",
    "for c in str1:\n",
    "    dd[c] += 1\n",
    "for c in str2:\n",
    "    dd[c] -= 1\n",
    "\n",
    "print(sum([item[1] for item in dd.items()]))\n",
    "# print(sum(dd.values()))"
   ]
  }
 ],
 "metadata": {
  "kernelspec": {
   "display_name": "Python 3",
   "language": "python",
   "name": "python3"
  },
  "language_info": {
   "codemirror_mode": {
    "name": "ipython",
    "version": 3
   },
   "file_extension": ".py",
   "mimetype": "text/x-python",
   "name": "python",
   "nbconvert_exporter": "python",
   "pygments_lexer": "ipython3",
   "version": "3.9.1"
  }
 },
 "nbformat": 4,
 "nbformat_minor": 5
}
